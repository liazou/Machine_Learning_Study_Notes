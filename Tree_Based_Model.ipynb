{
 "cells": [
  {
   "cell_type": "markdown",
   "metadata": {},
   "source": [
    "# Tree Based Model\n",
    "\n"
   ]
  },
  {
   "attachments": {},
   "cell_type": "markdown",
   "metadata": {},
   "source": [
    "## Decision Tree\n",
    "\n",
    "$\\textbf{Classification}$:\n",
    "- Entropy\n",
    "$$E(p) = - \\sum_{i=1}^c p_i log_2(p_i)$$\n",
    "- Gini Impurity\n",
    "$$I_{G}(p) = \\sum_{i=1}^J p_i \\sum_{k \\neq i} p_k = \\sum_{i=1}^J p_i (1 - p_i) = 1 - \\sum_{i=1}^J p_i^2$$\n",
    "\n",
    "$\\textbf{Regression}$:\n",
    "- Variance\n",
    "$$V(S) = \\frac{1}{|S|^2}\\sum_{i \\in S} \\sum_{j \\in S} (x_i - x_j)^2$$\n",
    "\n",
    "$\\textbf{How to split node}$:\n",
    "1. Compute entropy/gini impurity of the target\n",
    "2. Dataset is split on different attributes. The entropy/gini impurity of each branch is calculated\n",
    "3. Compute information gain (difference of entropy)\n",
    "4. Choose the split with the largest information gain as the decision node\n",
    "\n",
    "$\\textbf{Different types of decision tree}$: https://en.wikipedia.org/wiki/Decision_tree_learning\n",
    "- ID3: Information Gain (discrete features)\n",
    "- C.4.5: Information Gain (continuous features)\n",
    "- CART: Gini impurity\n",
    "- CHAID:\n",
    "  - Continuous response: F-test\n",
    "  - Categorical response: $\\chi^2$-test\n",
    "- MARS\n",
    "- Conditional Inference Tree\n",
    "\n",
    "$\\textbf{Regularization of Decision Tree}$: http://cs229.stanford.edu/notes/cs229-notes-dt.pdf\n",
    "- Min Leaf Size: Do not split if its cardinality falls below a fixed threshold\n",
    "- Max Depth: Do not split if more than a fixed threshold of splits were already taken to reach region\n",
    "- Max Number of Nodes: Stop if a tree has more than a fixed threshold of leaf nodes"
   ]
  },
  {
   "cell_type": "code",
   "execution_count": null,
   "metadata": {},
   "outputs": [],
   "source": []
  }
 ],
 "metadata": {
  "kernelspec": {
   "display_name": "Python 3",
   "language": "python",
   "name": "python3"
  },
  "language_info": {
   "codemirror_mode": {
    "name": "ipython",
    "version": 3
   },
   "file_extension": ".py",
   "mimetype": "text/x-python",
   "name": "python",
   "nbconvert_exporter": "python",
   "pygments_lexer": "ipython3",
   "version": "3.6.7"
  }
 },
 "nbformat": 4,
 "nbformat_minor": 4
}
