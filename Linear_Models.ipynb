{
 "cells": [
  {
   "cell_type": "markdown",
   "metadata": {},
   "source": [
    "# Linear Models"
   ]
  },
  {
   "cell_type": "markdown",
   "metadata": {},
   "source": [
    "## Linear Regression\n",
    "\n",
    "$$\\hat{\\beta} = \\frac{Cov(x, y)}{Var(x)} = \\frac{\\sum_{i=1}^n (x_i - \\bar{x}) (y_i - \\bar{y})}{\\sum_{i=1}^n (x_i - \\bar{x})^2} = (X^T X)^{-1} X^T y$$\n",
    "\n",
    "$\\textbf{Derivations}$:\n",
    "\n",
    "$$\\mathcal{L} = (Y - X \\beta)^T (Y - X \\beta)$$\n",
    "\n",
    "$$\\frac{\\partial \\mathcal{L}}{\\partial \\beta} = 2 * X^T (Y - X \\beta) = 0$$\n",
    "\n",
    "$$\\beta = (X^T X)^{-1} X^T y$$"
   ]
  },
  {
   "cell_type": "markdown",
   "metadata": {},
   "source": [
    "$\\textbf{Assumptions}$:\n",
    "\n",
    "- Linearity between DV (y) and IV (X)\n",
    "  - scatterplot\n",
    "- Normality of residuals\n",
    "  - Shapir-Wilk test\n",
    "  - Kolmogorov–Smirnov test\n",
    "  - QQ plot: compare quantles of data and normality\n",
    "  - $\\underline{Alternative}$: Use MAE when assume Laplace Distribution\n",
    "  $$pdf: f(x) = \\frac{1}{2 b} exp \\{ -\\frac{|x - \\mu|}{2 b} \\}$$\n",
    "  - Why if normality is not met: Maximum Likelihood (MLE) is not equivalent to Least Square (OLS)\n",
    "- Homoscedasticity (equal variance) of residuals\n",
    "  - Breusch Pagan Test\n",
    "    - obtain squared residual $\\hat{u}^2$ from OLS\n",
    "    - regress $\\hat{u}^2$ on all independent variables ($x_1, x_2, ..., x_k$)\n",
    "    - get $R_{\\hat{u}^2}^2$\n",
    "    - compute F statistic and p-value\n",
    "  - Scatterplot of residual vs predictor\n",
    "  - How to deal with heteroscedasticity:\n",
    "    - obtain residual $\\hat{u}$ from OLS\n",
    "    - regress $ln(\\hat{u}^2)$ on $x_1, x_2, ..., x_k$\n",
    "    - exponentiate the fitted values $\\hat{h} = exp(\\hat{g})$\n",
    "    - run WLS with weights $1 / \\hat{h}$\n",
    "- No multicollinearity of independent variables\n",
    "  - Regularization\n",
    "  - PCA\n",
    "  - VIF\n",
    "- How to compute VIF\n",
    "  - regress k-th variables on other independent variables\n",
    "  $$VIF = \\frac{1}{1 - R_k^2}$$"
   ]
  },
  {
   "cell_type": "markdown",
   "metadata": {},
   "source": [
    "$\\textbf{Goodness of Fit}$:\n",
    "\n",
    "$$SST = \\sum_i (y_i - \\bar{y})^2, SSE = \\sum_i (y_i - \\hat{y_i})^2, SSR = \\sum_i (\\hat{y_i} - \\bar{y})^2 $$\n",
    "$$SST = SSE + SSR$$ \n",
    "$$R^2 = 1 - \\frac{SSE}{SST} = \\frac{SSR}{SST} = \\frac{[Cov(x, y)]^2}{Var(x) Var(y)}$$\n",
    "$$Adjusted R^2 = 1 - \\frac{(1 - R^2) * (N - 1)}{N - k - 1} < R^2$$"
   ]
  },
  {
   "cell_type": "code",
   "execution_count": null,
   "metadata": {},
   "outputs": [],
   "source": []
  }
 ],
 "metadata": {
  "kernelspec": {
   "display_name": "Python 3",
   "language": "python",
   "name": "python3"
  },
  "language_info": {
   "codemirror_mode": {
    "name": "ipython",
    "version": 3
   },
   "file_extension": ".py",
   "mimetype": "text/x-python",
   "name": "python",
   "nbconvert_exporter": "python",
   "pygments_lexer": "ipython3",
   "version": "3.6.7"
  }
 },
 "nbformat": 4,
 "nbformat_minor": 4
}
