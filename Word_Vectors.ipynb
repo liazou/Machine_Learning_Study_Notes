{
 "cells": [
  {
   "cell_type": "markdown",
   "metadata": {},
   "source": [
    "# n-gram\n",
    "\n",
    "$$p(w_n | w_{n-N+1} ^{n-1}) = \\frac{Count(w_{n-N+1} ^{n-1} w_n)}{ Count(w_{n-N+1} ^{n-1}) }$$"
   ]
  },
  {
   "cell_type": "markdown",
   "metadata": {},
   "source": [
    "# Perplexity\n",
    "$$PP(W) = \\sqrt[^N]{\\prod_{i=1}^N \\frac{1}{P(w_i | w_1, ..., w_{i-1})}}$$"
   ]
  },
  {
   "cell_type": "markdown",
   "metadata": {},
   "source": [
    "# TF-IDF\n",
    "\n",
    "$$TF(t) = \\frac{\\text{# times term t appears in a document}}{\\text{total # terms in the document}}$$\n",
    "$$IDF(t) = ln \\left(\\frac{\\text{total # documents}}{\\text{# documents with term t}} \\right)$$\n",
    "$$weight(t) = TF(t) * IDF(t)$$"
   ]
  },
  {
   "cell_type": "code",
   "execution_count": null,
   "metadata": {},
   "outputs": [],
   "source": []
  }
 ],
 "metadata": {
  "kernelspec": {
   "display_name": "Python 3",
   "language": "python",
   "name": "python3"
  },
  "language_info": {
   "codemirror_mode": {
    "name": "ipython",
    "version": 3
   },
   "file_extension": ".py",
   "mimetype": "text/x-python",
   "name": "python",
   "nbconvert_exporter": "python",
   "pygments_lexer": "ipython3",
   "version": "3.6.7"
  }
 },
 "nbformat": 4,
 "nbformat_minor": 4
}
