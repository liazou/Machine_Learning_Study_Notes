{
 "cells": [
  {
   "cell_type": "markdown",
   "id": "13275cab-14ac-48b8-b4db-88c9d02ddae6",
   "metadata": {},
   "source": [
    "# Data Science Cast Study\n",
    "\n",
    "## Framework"
   ]
  },
  {
   "cell_type": "markdown",
   "id": "a1968ca1-dc03-4233-b5e1-fb9a99dfafb8",
   "metadata": {},
   "source": [
    "### Problem Diagnose\n",
    "\n",
    "- Clarify the scenario/metric\n",
    "  - How is estimated time arrival defined?\n",
    "  - Start and end time\n",
    "- Time - sudden or stable change?\n",
    "  - Check for outliers (extreme values)\n",
    "  - Internal – data source? Data collections? \n",
    "     - ETA prediction algorithm, compare ETA with ground truth\n",
    "     - Ride matching algorithm\n",
    "     - Data Collection process\n",
    "- Other product/feature by the same company?\n",
    "  - Have we made change to our product line?\n",
    "  - Have other related products experienced the same change?\n",
    "- Segment by user demographic and behavioral features\n",
    "  - Regions: all regions or one region\n",
    "  - Platforms: iOS, Android, Web\n",
    "- Decompose the metric\n",
    "  - DAU = Existing + New + Resurrected – Churned users\n",
    "  - Region: City, State\n",
    "  - Time: Morning, Noon, Evening\n",
    "  - Day: Weekday, weekend, Mon, Tue, ..., Sun\n",
    "  - Date: Holiday, Special Event\n",
    "- Summarize overall approach\n",
    "  - Most reasonable causes\n",
    "  - How to fix\n",
    "\n",
    "Example: Diagnose decrease in reliability = # completed drive / # request drive\n",
    "- possible cause: drivers wait too long and reject small trips\n",
    "- solution:\n",
    "  1. update matching algorithms\n",
    "  2. share ride: combine small group of passengers into large\n",
    "  3. increase amount paid to drivers\n",
    "- how to conduct experiment of updating matching algorithm: A/B test in different airports\n",
    "- how long of experiment: observe week over week, 1 or 2 months\n",
    "- how to estimate sample size\n",
    "- run significant tests"
   ]
  },
  {
   "cell_type": "markdown",
   "id": "cc479566-bc13-4868-b708-c8f01bac1f5c",
   "metadata": {},
   "source": [
    "### Launch a feature or not\n",
    "\n",
    "- Clarify goals and define metrics\n",
    "- Experimetation\n",
    "  - How to design experiments?\n",
    "  - How to split users?\n",
    "  - How long to run the experiment?\n",
    "- Recommendation based on experiment results\n",
    "  - Link to goal and business impact\n",
    "  - Conflicting results\n",
    "  - Short-term vs long-term solution\n",
    "\n",
    "Example: Whether to give promotion to customers\n",
    "- experiment: A/B test\n",
    "  - treatment: customer with promotion\n",
    "  - control: customer without promotion\n",
    "- metric: average revenue per user (not DAU)\n",
    "- can we simply send promotions to all users? Some use promo but some did not\n",
    "  - No, denominator will change, more people will use promo in the future\n",
    "- how long to conduct the experiment\n",
    "- how to choose sample size for treatment and control group?\n",
    "  - pick a few large cities, choose 10% of population\n",
    "- can we trust one single number (treatment has 20% revenue per user higher than control)"
   ]
  },
  {
   "cell_type": "markdown",
   "id": "73d25f74-2332-4368-82a7-4aa6806e8677",
   "metadata": {},
   "source": [
    "### Measure Success\n",
    "- Clarify function and goal of product/feature\n",
    "  - What it does?\n",
    "  - How is it used?\n",
    "  - Who is it for?\n",
    "- Define metrics (not more than 3)\n",
    "  - success metrics: daily active user, number of bookings, conversion rate\n",
    "  - Guardrail metric: cancellation rate and bounce rate\n",
    "- Define treatment vs control group\n",
    "  - How would you design experiment period?\n",
    "  - How many users to use?\n",
    "  - How to measure significance of result?\n",
    "\n",
    "Example: https://zhuanlan.zhihu.com/p/266051874\n"
   ]
  },
  {
   "cell_type": "markdown",
   "id": "0610b34d-1560-4bf7-94d0-beafbec4493a",
   "metadata": {
    "tags": []
   },
   "source": [
    "### Machine Learning Classification\n",
    "\n",
    "Example: build a model to predict if a driver on Uber will accept a ride request\n",
    "- If we display more info (price, destination), will acceptance rate increase or decrease?\n",
    "- What features would you use?\n",
    "  - Trip distance between driver and rider\n",
    "  - Location for departure and destination\n",
    "  - Time to request the trip (time of day, day of week)\n",
    "  - Special Events (holiday, etc.)\n",
    "  - Vehicle type\n",
    "  - Shared ride or other types\n",
    "  - Historical behavior of drivers: when they usually work, how many drive per week\n",
    "  - How many riders make requests in that area\n",
    "  - Rating of driver and rider\n",
    "  - Estimated price\n",
    "- What algorithms would you use?\n",
    "  - Logistic Regression\n",
    "  - Tree based models\n",
    "  - etc.\n",
    "- What are the tradeoff between different classifiers?\n",
    "- How to evaluate the model?\n",
    "  - AUC-ROC\n",
    "  - Precision/Recall\n",
    "  - F1\n",
    "- casual inference: model predicts 0.3, how should we increase the price to make drivers to accept?\n",
    "  - we cannot trust how precisely increase the price to make drivers to accept\n",
    "  - since we predict the probability of acceptance (unknown)"
   ]
  }
 ],
 "metadata": {
  "kernelspec": {
   "display_name": "Python 3",
   "language": "python",
   "name": "python3"
  },
  "language_info": {
   "codemirror_mode": {
    "name": "ipython",
    "version": 3
   },
   "file_extension": ".py",
   "mimetype": "text/x-python",
   "name": "python",
   "nbconvert_exporter": "python",
   "pygments_lexer": "ipython3",
   "version": "3.6.8"
  }
 },
 "nbformat": 4,
 "nbformat_minor": 5
}
